{
 "cells": [
  {
   "cell_type": "markdown",
   "metadata": {},
   "source": [
    "# Jupyter notebook template\n",
    "\n",
    "This is a template file to start from.\n",
    "\n",
    " - First, import some stuff"
   ]
  },
  {
   "cell_type": "code",
   "execution_count": null,
   "metadata": {},
   "outputs": [],
   "source": [
    "#Annoying folder stuff\n",
    "import os\n",
    "import sys\n",
    "module_path = os.path.abspath(os.path.join('..'))\n",
    "if module_path not in sys.path:\n",
    "    sys.path.append(module_path)\n",
    "    \n",
    "# Import plotting and numpy\n",
    "from matplotlib import pyplot as plt\n",
    "%matplotlib inline\n",
    "import numpy as np\n",
    "\n",
    "# Import vortex panel and boundary layer functions\n",
    "from vortexpanel import VortexPanel as vp\n",
    "from vortexpanel import BoundaryLayer as bl"
   ]
  },
  {
   "cell_type": "markdown",
   "metadata": {},
   "source": [
    " - Then you can do whatever you want by typing, coding, or adding equations\n",
    " \n",
    "$$ E = mc^2 $$"
   ]
  },
  {
   "cell_type": "code",
   "execution_count": null,
   "metadata": {},
   "outputs": [],
   "source": [
    "# This is a code cell\n",
    "print([i**2 for i in range(10)])"
   ]
  },
  {
   "cell_type": "code",
   "execution_count": null,
   "metadata": {},
   "outputs": [],
   "source": [
    "print([i**2 for i in range(100)])"
   ]
  },
  {
   "cell_type": "code",
   "execution_count": null,
   "metadata": {},
   "outputs": [],
   "source": [
    "x = [0, 0, 1, 1, 0]\n",
    "y = [0, 1, 1, 0, 0]\n",
    "square = vp.panelize(x, y)\n",
    "square.plot(style='o-', nlabel=1)\n",
    "plt.axis('equal')"
   ]
  },
  {
   "cell_type": "code",
   "execution_count": null,
   "metadata": {},
   "outputs": [],
   "source": [
    "def make_circle(nSides=16, r=1):\n",
    "    \"\"\"\n",
    "    plots a circle with a number of sides defined by nSides, of radius r\n",
    "    \"\"\"\n",
    "    x = r*np.cos(np.linspace(2*np.pi, 0, nSides+1))\n",
    "    y = r*np.sin(np.linspace(2*np.pi, 0, nSides+1))\n",
    "    return vp.panelize(x, y)\n",
    "\n",
    "circle = make_circle(nSides=20)\n",
    "circle.plot(style='o-', nlabel=1)"
   ]
  },
  {
   "cell_type": "code",
   "execution_count": null,
   "metadata": {},
   "outputs": [],
   "source": [
    "circle = make_circle(nSides=16)"
   ]
  },
  {
   "cell_type": "code",
   "execution_count": null,
   "metadata": {},
   "outputs": [],
   "source": [
    "circle.solve_gamma()\n",
    "gamma = circle.get_array('gamma')\n",
    "s = circle.distance()\n",
    "plt.plot(s, gamma,label='numeric')\n",
    "theta = np.linspace(0, 2*np.pi)\n",
    "plt.plot(theta, 2*np.sin(theta), label='analytic')\n",
    "plt.legend()\n",
    "plt.xlabel(r'$\\theta$ (rad)');plt.ylabel(r'$\\tilde\\gamma$', rotation=0);\n",
    "2*np.sin(theta)-gamma"
   ]
  },
  {
   "cell_type": "code",
   "execution_count": null,
   "metadata": {},
   "outputs": [],
   "source": [
    "def max_difference(series1, series2):\n",
    "    difference = np.max(series1 - series2)\n",
    "    return difference"
   ]
  },
  {
   "cell_type": "code",
   "execution_count": null,
   "metadata": {},
   "outputs": [],
   "source": [
    "def plot_difference():\n",
    "    n = 2**(np.linspace(4,10,11))\n",
    "    diff = []\n",
    "    for i in n:\n",
    "        circle = make_circle(nSides=int(i))\n",
    "        circle.solve.gamma()\n",
    "        gamma = circle.get_array('gamma')\n",
    "        sine = 2*np.sin(np.linspace(0, 2*np.pi, len(gamma)))\n",
    "        diff.append(max_difference(gamma, sine))\n",
    "    plt.plot(n,diff)\n",
    "    plt.show()\n",
    "\n"
   ]
  },
  {
   "cell_type": "code",
   "execution_count": null,
   "metadata": {},
   "outputs": [],
   "source": [
    "plot_difference()"
   ]
  },
  {
   "cell_type": "code",
   "execution_count": null,
   "metadata": {},
   "outputs": [],
   "source": [
    "@np.vectorize\n",
    "def circle_error(N):\n",
    "    circle = make_circle(N)\n",
    "    circle.solve_gamma()\n",
    "    gamma = circle.get_array('gamma')\n",
    "    return 2-max(gamma)\n",
    "\n",
    "N = 2**np.arange(2,8)\n",
    "plt.plot(2*np.pi/N,circle_error(N),'o-')"
   ]
  }
 ],
 "metadata": {
  "kernelspec": {
   "display_name": "Python 3",
   "language": "python",
   "name": "python3"
  },
  "language_info": {
   "codemirror_mode": {
    "name": "ipython",
    "version": 3
   },
   "file_extension": ".py",
   "mimetype": "text/x-python",
   "name": "python",
   "nbconvert_exporter": "python",
   "pygments_lexer": "ipython3",
   "version": "3.6.2-final"
  }
 },
 "nbformat": 4,
 "nbformat_minor": 2
}